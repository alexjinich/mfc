{
 "cells": [
  {
   "cell_type": "code",
   "execution_count": 1,
   "metadata": {},
   "outputs": [],
   "source": [
    "import bids"
   ]
  },
  {
   "cell_type": "code",
   "execution_count": 20,
   "metadata": {},
   "outputs": [],
   "source": [
    "layout = bids.BIDSLayout('/Volumes/Seagate_Desktop_Drive/MFC_fMRIPREP/derivatives/fmriprep/',validate=False)"
   ]
  },
  {
   "cell_type": "code",
   "execution_count": 22,
   "metadata": {},
   "outputs": [
    {
     "data": {
      "text/plain": [
       "['mfcc003',\n",
       " 'mfcc006',\n",
       " 'mfcc007',\n",
       " 'mfcc011',\n",
       " 'mfcc014',\n",
       " 'mfcc016',\n",
       " 'mfcc024',\n",
       " 'mfcc026',\n",
       " 'mfcc027',\n",
       " 'mfcc029',\n",
       " 'mfcc035',\n",
       " 'mfcc036',\n",
       " 'mfcc037',\n",
       " 'mfcc039',\n",
       " 'mfcc041',\n",
       " 'mfcc042',\n",
       " 'mfcc045',\n",
       " 'mfcc048',\n",
       " 'mfcc053',\n",
       " 'mfcc054',\n",
       " 'mfcm001',\n",
       " 'mfcm005',\n",
       " 'mfcm009',\n",
       " 'mfcm012',\n",
       " 'mfcm019',\n",
       " 'mfcm020',\n",
       " 'mfcm021',\n",
       " 'mfcm023',\n",
       " 'mfcm031',\n",
       " 'mfcm032',\n",
       " 'mfcm033',\n",
       " 'mfcm040',\n",
       " 'mfcm043',\n",
       " 'mfcm044',\n",
       " 'mfcm046',\n",
       " 'mfcm047',\n",
       " 'mfcm051',\n",
       " 'mfcm052',\n",
       " 'mfcm055',\n",
       " 'mfcm057']"
      ]
     },
     "execution_count": 22,
     "metadata": {},
     "output_type": "execute_result"
    }
   ],
   "source": [
    "layout.get_subjects()"
   ]
  },
  {
   "cell_type": "code",
   "execution_count": 23,
   "metadata": {},
   "outputs": [
    {
     "data": {
      "text/plain": [
       "['h1', 'h2', 'h3', 'h4', 'n1', 'n2', 'n3', 'n4']"
      ]
     },
     "execution_count": 23,
     "metadata": {},
     "output_type": "execute_result"
    }
   ],
   "source": [
    "layout.get_tasks()"
   ]
  },
  {
   "cell_type": "code",
   "execution_count": 36,
   "metadata": {},
   "outputs": [
    {
     "data": {
      "text/plain": [
       "['',\n",
       " 'AROMAnoiseICs',\n",
       " 'bold',\n",
       " 'boldref',\n",
       " 'CITATION',\n",
       " 'description',\n",
       " 'dseg',\n",
       " 'fmriprep',\n",
       " 'mask',\n",
       " 'mfcc003',\n",
       " 'mfcc006',\n",
       " 'mfcc007',\n",
       " 'mfcc011',\n",
       " 'mfcc014',\n",
       " 'mfcc016',\n",
       " 'mfcc024',\n",
       " 'mfcc026',\n",
       " 'mfcc027',\n",
       " 'mfcc029',\n",
       " 'mfcc035',\n",
       " 'mfcc036',\n",
       " 'mfcc037',\n",
       " 'mfcc039',\n",
       " 'mfcc041',\n",
       " 'mfcc042',\n",
       " 'mfcc045',\n",
       " 'mfcc048',\n",
       " 'mfcc053',\n",
       " 'mfcc054',\n",
       " 'mfcm001',\n",
       " 'mfcm005',\n",
       " 'mfcm009',\n",
       " 'mfcm012',\n",
       " 'mfcm019',\n",
       " 'mfcm020',\n",
       " 'mfcm021',\n",
       " 'mfcm023',\n",
       " 'mfcm031',\n",
       " 'mfcm032',\n",
       " 'mfcm033',\n",
       " 'mfcm040',\n",
       " 'mfcm043',\n",
       " 'mfcm044',\n",
       " 'mfcm046',\n",
       " 'mfcm047',\n",
       " 'mfcm051',\n",
       " 'mfcm052',\n",
       " 'mfcm055',\n",
       " 'mfcm057',\n",
       " 'mixing',\n",
       " 'probseg',\n",
       " 'T1w',\n",
       " 'timeseries',\n",
       " 'xfm']"
      ]
     },
     "execution_count": 36,
     "metadata": {},
     "output_type": "execute_result"
    }
   ],
   "source": [
    "layout.get_suffix()  # also, get_datatype, get_suffix, get_extension, get_space"
   ]
  },
  {
   "cell_type": "code",
   "execution_count": 37,
   "metadata": {},
   "outputs": [
    {
     "data": {
      "text/plain": [
       "['anat', 'func']"
      ]
     },
     "execution_count": 37,
     "metadata": {},
     "output_type": "execute_result"
    }
   ],
   "source": [
    "layout.get_datatype()  # also, get_datatype, get_suffix, get_extension, get_space"
   ]
  },
  {
   "cell_type": "code",
   "execution_count": 38,
   "metadata": {},
   "outputs": [
    {
     "data": {
      "text/plain": [
       "['bib',\n",
       " 'bidsignore',\n",
       " 'csv',\n",
       " 'DS_Store',\n",
       " 'h5',\n",
       " 'html',\n",
       " 'json',\n",
       " 'md',\n",
       " 'nii.gz',\n",
       " 'svg',\n",
       " 'tex',\n",
       " 'toml',\n",
       " 'tsv',\n",
       " 'txt']"
      ]
     },
     "execution_count": 38,
     "metadata": {},
     "output_type": "execute_result"
    }
   ],
   "source": [
    "layout.get_extension()  # also, get_datatype, get_suffix, get_extension, get_space"
   ]
  },
  {
   "cell_type": "code",
   "execution_count": 31,
   "metadata": {},
   "outputs": [],
   "source": [
    "preproc_T1 = layout.get(datatype='func',suffix='T1w',extension='.nii.gz',space='MNI152NLin2009cAsym')"
   ]
  },
  {
   "cell_type": "code",
   "execution_count": 32,
   "metadata": {},
   "outputs": [
    {
     "data": {
      "text/plain": [
       "[<BIDSImageFile filename='/Volumes/Seagate_Desktop_Drive/MFC_fMRIPREP/derivatives/fmriprep/sub-mfcc003/anat/sub-mfcc003_space-MNI152NLin2009cAsym_desc-preproc_T1w.nii.gz'>,\n",
       " <BIDSImageFile filename='/Volumes/Seagate_Desktop_Drive/MFC_fMRIPREP/derivatives/fmriprep/sub-mfcc006/anat/sub-mfcc006_space-MNI152NLin2009cAsym_desc-preproc_T1w.nii.gz'>,\n",
       " <BIDSImageFile filename='/Volumes/Seagate_Desktop_Drive/MFC_fMRIPREP/derivatives/fmriprep/sub-mfcc007/anat/sub-mfcc007_space-MNI152NLin2009cAsym_desc-preproc_T1w.nii.gz'>,\n",
       " <BIDSImageFile filename='/Volumes/Seagate_Desktop_Drive/MFC_fMRIPREP/derivatives/fmriprep/sub-mfcc011/anat/sub-mfcc011_space-MNI152NLin2009cAsym_desc-preproc_T1w.nii.gz'>,\n",
       " <BIDSImageFile filename='/Volumes/Seagate_Desktop_Drive/MFC_fMRIPREP/derivatives/fmriprep/sub-mfcc014/anat/sub-mfcc014_space-MNI152NLin2009cAsym_desc-preproc_T1w.nii.gz'>,\n",
       " <BIDSImageFile filename='/Volumes/Seagate_Desktop_Drive/MFC_fMRIPREP/derivatives/fmriprep/sub-mfcc016/anat/sub-mfcc016_space-MNI152NLin2009cAsym_desc-preproc_T1w.nii.gz'>,\n",
       " <BIDSImageFile filename='/Volumes/Seagate_Desktop_Drive/MFC_fMRIPREP/derivatives/fmriprep/sub-mfcc024/anat/sub-mfcc024_space-MNI152NLin2009cAsym_desc-preproc_T1w.nii.gz'>,\n",
       " <BIDSImageFile filename='/Volumes/Seagate_Desktop_Drive/MFC_fMRIPREP/derivatives/fmriprep/sub-mfcc026/anat/sub-mfcc026_space-MNI152NLin2009cAsym_desc-preproc_T1w.nii.gz'>,\n",
       " <BIDSImageFile filename='/Volumes/Seagate_Desktop_Drive/MFC_fMRIPREP/derivatives/fmriprep/sub-mfcc027/anat/sub-mfcc027_space-MNI152NLin2009cAsym_desc-preproc_T1w.nii.gz'>,\n",
       " <BIDSImageFile filename='/Volumes/Seagate_Desktop_Drive/MFC_fMRIPREP/derivatives/fmriprep/sub-mfcc029/anat/sub-mfcc029_space-MNI152NLin2009cAsym_desc-preproc_T1w.nii.gz'>,\n",
       " <BIDSImageFile filename='/Volumes/Seagate_Desktop_Drive/MFC_fMRIPREP/derivatives/fmriprep/sub-mfcc035/anat/sub-mfcc035_space-MNI152NLin2009cAsym_desc-preproc_T1w.nii.gz'>,\n",
       " <BIDSImageFile filename='/Volumes/Seagate_Desktop_Drive/MFC_fMRIPREP/derivatives/fmriprep/sub-mfcc036/anat/sub-mfcc036_space-MNI152NLin2009cAsym_desc-preproc_T1w.nii.gz'>,\n",
       " <BIDSImageFile filename='/Volumes/Seagate_Desktop_Drive/MFC_fMRIPREP/derivatives/fmriprep/sub-mfcc037/anat/sub-mfcc037_space-MNI152NLin2009cAsym_desc-preproc_T1w.nii.gz'>,\n",
       " <BIDSImageFile filename='/Volumes/Seagate_Desktop_Drive/MFC_fMRIPREP/derivatives/fmriprep/sub-mfcc039/anat/sub-mfcc039_space-MNI152NLin2009cAsym_desc-preproc_T1w.nii.gz'>,\n",
       " <BIDSImageFile filename='/Volumes/Seagate_Desktop_Drive/MFC_fMRIPREP/derivatives/fmriprep/sub-mfcc041/anat/sub-mfcc041_space-MNI152NLin2009cAsym_desc-preproc_T1w.nii.gz'>,\n",
       " <BIDSImageFile filename='/Volumes/Seagate_Desktop_Drive/MFC_fMRIPREP/derivatives/fmriprep/sub-mfcc042/anat/sub-mfcc042_space-MNI152NLin2009cAsym_desc-preproc_T1w.nii.gz'>,\n",
       " <BIDSImageFile filename='/Volumes/Seagate_Desktop_Drive/MFC_fMRIPREP/derivatives/fmriprep/sub-mfcc045/anat/sub-mfcc045_space-MNI152NLin2009cAsym_desc-preproc_T1w.nii.gz'>,\n",
       " <BIDSImageFile filename='/Volumes/Seagate_Desktop_Drive/MFC_fMRIPREP/derivatives/fmriprep/sub-mfcc048/anat/sub-mfcc048_space-MNI152NLin2009cAsym_desc-preproc_T1w.nii.gz'>,\n",
       " <BIDSImageFile filename='/Volumes/Seagate_Desktop_Drive/MFC_fMRIPREP/derivatives/fmriprep/sub-mfcc053/anat/sub-mfcc053_space-MNI152NLin2009cAsym_desc-preproc_T1w.nii.gz'>,\n",
       " <BIDSImageFile filename='/Volumes/Seagate_Desktop_Drive/MFC_fMRIPREP/derivatives/fmriprep/sub-mfcc054/anat/sub-mfcc054_space-MNI152NLin2009cAsym_desc-preproc_T1w.nii.gz'>,\n",
       " <BIDSImageFile filename='/Volumes/Seagate_Desktop_Drive/MFC_fMRIPREP/derivatives/fmriprep/sub-mfcm001/anat/sub-mfcm001_space-MNI152NLin2009cAsym_desc-preproc_T1w.nii.gz'>,\n",
       " <BIDSImageFile filename='/Volumes/Seagate_Desktop_Drive/MFC_fMRIPREP/derivatives/fmriprep/sub-mfcm005/anat/sub-mfcm005_space-MNI152NLin2009cAsym_desc-preproc_T1w.nii.gz'>,\n",
       " <BIDSImageFile filename='/Volumes/Seagate_Desktop_Drive/MFC_fMRIPREP/derivatives/fmriprep/sub-mfcm009/anat/sub-mfcm009_space-MNI152NLin2009cAsym_desc-preproc_T1w.nii.gz'>,\n",
       " <BIDSImageFile filename='/Volumes/Seagate_Desktop_Drive/MFC_fMRIPREP/derivatives/fmriprep/sub-mfcm012/anat/sub-mfcm012_space-MNI152NLin2009cAsym_desc-preproc_T1w.nii.gz'>,\n",
       " <BIDSImageFile filename='/Volumes/Seagate_Desktop_Drive/MFC_fMRIPREP/derivatives/fmriprep/sub-mfcm019/anat/sub-mfcm019_space-MNI152NLin2009cAsym_desc-preproc_T1w.nii.gz'>,\n",
       " <BIDSImageFile filename='/Volumes/Seagate_Desktop_Drive/MFC_fMRIPREP/derivatives/fmriprep/sub-mfcm020/anat/sub-mfcm020_space-MNI152NLin2009cAsym_desc-preproc_T1w.nii.gz'>,\n",
       " <BIDSImageFile filename='/Volumes/Seagate_Desktop_Drive/MFC_fMRIPREP/derivatives/fmriprep/sub-mfcm021/anat/sub-mfcm021_space-MNI152NLin2009cAsym_desc-preproc_T1w.nii.gz'>,\n",
       " <BIDSImageFile filename='/Volumes/Seagate_Desktop_Drive/MFC_fMRIPREP/derivatives/fmriprep/sub-mfcm023/anat/sub-mfcm023_space-MNI152NLin2009cAsym_desc-preproc_T1w.nii.gz'>,\n",
       " <BIDSImageFile filename='/Volumes/Seagate_Desktop_Drive/MFC_fMRIPREP/derivatives/fmriprep/sub-mfcm031/anat/sub-mfcm031_space-MNI152NLin2009cAsym_desc-preproc_T1w.nii.gz'>,\n",
       " <BIDSImageFile filename='/Volumes/Seagate_Desktop_Drive/MFC_fMRIPREP/derivatives/fmriprep/sub-mfcm032/anat/sub-mfcm032_space-MNI152NLin2009cAsym_desc-preproc_T1w.nii.gz'>,\n",
       " <BIDSImageFile filename='/Volumes/Seagate_Desktop_Drive/MFC_fMRIPREP/derivatives/fmriprep/sub-mfcm033/anat/sub-mfcm033_space-MNI152NLin2009cAsym_desc-preproc_T1w.nii.gz'>,\n",
       " <BIDSImageFile filename='/Volumes/Seagate_Desktop_Drive/MFC_fMRIPREP/derivatives/fmriprep/sub-mfcm040/anat/sub-mfcm040_space-MNI152NLin2009cAsym_desc-preproc_T1w.nii.gz'>,\n",
       " <BIDSImageFile filename='/Volumes/Seagate_Desktop_Drive/MFC_fMRIPREP/derivatives/fmriprep/sub-mfcm043/anat/sub-mfcm043_space-MNI152NLin2009cAsym_desc-preproc_T1w.nii.gz'>,\n",
       " <BIDSImageFile filename='/Volumes/Seagate_Desktop_Drive/MFC_fMRIPREP/derivatives/fmriprep/sub-mfcm044/anat/sub-mfcm044_space-MNI152NLin2009cAsym_desc-preproc_T1w.nii.gz'>,\n",
       " <BIDSImageFile filename='/Volumes/Seagate_Desktop_Drive/MFC_fMRIPREP/derivatives/fmriprep/sub-mfcm046/anat/sub-mfcm046_space-MNI152NLin2009cAsym_desc-preproc_T1w.nii.gz'>,\n",
       " <BIDSImageFile filename='/Volumes/Seagate_Desktop_Drive/MFC_fMRIPREP/derivatives/fmriprep/sub-mfcm047/anat/sub-mfcm047_space-MNI152NLin2009cAsym_desc-preproc_T1w.nii.gz'>,\n",
       " <BIDSImageFile filename='/Volumes/Seagate_Desktop_Drive/MFC_fMRIPREP/derivatives/fmriprep/sub-mfcm051/anat/sub-mfcm051_space-MNI152NLin2009cAsym_desc-preproc_T1w.nii.gz'>,\n",
       " <BIDSImageFile filename='/Volumes/Seagate_Desktop_Drive/MFC_fMRIPREP/derivatives/fmriprep/sub-mfcm052/anat/sub-mfcm052_space-MNI152NLin2009cAsym_desc-preproc_T1w.nii.gz'>,\n",
       " <BIDSImageFile filename='/Volumes/Seagate_Desktop_Drive/MFC_fMRIPREP/derivatives/fmriprep/sub-mfcm055/anat/sub-mfcm055_space-MNI152NLin2009cAsym_desc-preproc_T1w.nii.gz'>,\n",
       " <BIDSImageFile filename='/Volumes/Seagate_Desktop_Drive/MFC_fMRIPREP/derivatives/fmriprep/sub-mfcm057/anat/sub-mfcm057_space-MNI152NLin2009cAsym_desc-preproc_T1w.nii.gz'>]"
      ]
     },
     "execution_count": 32,
     "metadata": {},
     "output_type": "execute_result"
    }
   ],
   "source": [
    "preproc_T1"
   ]
  },
  {
   "cell_type": "code",
   "execution_count": 34,
   "metadata": {},
   "outputs": [],
   "source": [
    "brainmask = layout.get(datatype='anat',suffix='mask',extension='.nii.gz',space='MNI152NLin2009cAsym')"
   ]
  },
  {
   "cell_type": "code",
   "execution_count": null,
   "metadata": {},
   "outputs": [],
   "source": []
  }
 ],
 "metadata": {
  "kernelspec": {
   "display_name": "Python 3",
   "language": "python",
   "name": "python3"
  },
  "language_info": {
   "codemirror_mode": {
    "name": "ipython",
    "version": 3
   },
   "file_extension": ".py",
   "mimetype": "text/x-python",
   "name": "python",
   "nbconvert_exporter": "python",
   "pygments_lexer": "ipython3",
   "version": "3.8.5"
  }
 },
 "nbformat": 4,
 "nbformat_minor": 5
}
